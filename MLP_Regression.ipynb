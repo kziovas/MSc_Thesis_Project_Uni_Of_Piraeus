{
 "cells": [
  {
   "cell_type": "code",
   "execution_count": 1,
   "id": "designing-northeast",
   "metadata": {},
   "outputs": [],
   "source": [
    "import random\n",
    "import math\n",
    "import csv\n",
    "import time\n",
    "import os\n",
    "import numpy as np\n",
    "import pandas as pd\n",
    "import seaborn as sns\n",
    "import matplotlib.pyplot as plt\n",
    "from matplotlib.ticker import (MultipleLocator, AutoMinorLocator)\n",
    "from sklearn.neural_network import MLPRegressor\n",
    "from sklearn.model_selection import GridSearchCV\n",
    "from sklearn.model_selection import train_test_split\n",
    "from sklearn.preprocessing import MinMaxScaler,StandardScaler\n",
    "from sklearn.metrics import accuracy_score,top_k_accuracy_score, mean_squared_error, mean_absolute_error\n",
    "from sklearn.calibration import CalibratedClassifierCV\n",
    "from sklearn.multioutput import MultiOutputRegressor\n",
    "from joblib import dump, load"
   ]
  },
  {
   "cell_type": "code",
   "execution_count": 2,
   "id": "inclusive-sleep",
   "metadata": {},
   "outputs": [],
   "source": [
    "numexpr=100000\n",
    "noise=0.01\n",
    "csv_path=f\"./data/train_data{numexpr}_noise{noise}.csv\"\n",
    "df = pd.read_csv(csv_path,index_col=0)"
   ]
  },
  {
   "cell_type": "code",
   "execution_count": 3,
   "id": "affecting-merchant",
   "metadata": {},
   "outputs": [],
   "source": [
    "#Split label from features\n",
    "X = df.drop(['mean','sd'],axis=1)\n",
    "y = df[['mean','sd']]"
   ]
  },
  {
   "cell_type": "code",
   "execution_count": 4,
   "id": "05ad8ac8-c3a0-445d-be2f-a2bd0b90dcdc",
   "metadata": {},
   "outputs": [
    {
     "data": {
      "text/html": [
       "<div>\n",
       "<style scoped>\n",
       "    .dataframe tbody tr th:only-of-type {\n",
       "        vertical-align: middle;\n",
       "    }\n",
       "\n",
       "    .dataframe tbody tr th {\n",
       "        vertical-align: top;\n",
       "    }\n",
       "\n",
       "    .dataframe thead th {\n",
       "        text-align: right;\n",
       "    }\n",
       "</style>\n",
       "<table border=\"1\" class=\"dataframe\">\n",
       "  <thead>\n",
       "    <tr style=\"text-align: right;\">\n",
       "      <th></th>\n",
       "      <th>mean</th>\n",
       "      <th>sd</th>\n",
       "    </tr>\n",
       "  </thead>\n",
       "  <tbody>\n",
       "    <tr>\n",
       "      <th>99994</th>\n",
       "      <td>7.95</td>\n",
       "      <td>0.097816</td>\n",
       "    </tr>\n",
       "    <tr>\n",
       "      <th>99995</th>\n",
       "      <td>6.53</td>\n",
       "      <td>0.066476</td>\n",
       "    </tr>\n",
       "    <tr>\n",
       "      <th>99996</th>\n",
       "      <td>4.84</td>\n",
       "      <td>0.075955</td>\n",
       "    </tr>\n",
       "    <tr>\n",
       "      <th>99997</th>\n",
       "      <td>8.31</td>\n",
       "      <td>0.029097</td>\n",
       "    </tr>\n",
       "    <tr>\n",
       "      <th>99998</th>\n",
       "      <td>6.44</td>\n",
       "      <td>0.160553</td>\n",
       "    </tr>\n",
       "  </tbody>\n",
       "</table>\n",
       "</div>"
      ],
      "text/plain": [
       "       mean        sd\n",
       "99994  7.95  0.097816\n",
       "99995  6.53  0.066476\n",
       "99996  4.84  0.075955\n",
       "99997  8.31  0.029097\n",
       "99998  6.44  0.160553"
      ]
     },
     "execution_count": 4,
     "metadata": {},
     "output_type": "execute_result"
    }
   ],
   "source": [
    "y.tail()"
   ]
  },
  {
   "cell_type": "code",
   "execution_count": 5,
   "id": "alone-economy",
   "metadata": {},
   "outputs": [],
   "source": [
    "#Split train and test data\n",
    "X_train, X_test, y_train, y_test = train_test_split(X, y, test_size=0.1, random_state=101)"
   ]
  },
  {
   "cell_type": "code",
   "execution_count": 6,
   "id": "laden-obligation",
   "metadata": {},
   "outputs": [],
   "source": [
    "#Scale data\n",
    "scaler = MinMaxScaler()#StandardScaler()#\n",
    "scaled_X_train = scaler.fit_transform(X_train)\n",
    "scaled_X_test = scaler.transform(X_test)"
   ]
  },
  {
   "cell_type": "code",
   "execution_count": 7,
   "id": "b4ceb54a-01b1-45a7-8307-037ea0c70e13",
   "metadata": {},
   "outputs": [
    {
     "name": "stdout",
     "output_type": "stream",
     "text": [
      "scaled: 0.17826481708395678 not scaled: 19.120040090653447\n"
     ]
    }
   ],
   "source": [
    "scaled_max=scaled_X_train[0].max()\n",
    "unscaled_max=X_train.iloc[0].values.reshape(1, -1).max()\n",
    "print(f\"scaled: {scaled_max} not scaled: {unscaled_max}\")"
   ]
  },
  {
   "cell_type": "markdown",
   "id": "bcfe0d2e-b7ed-4ef0-8298-9dc7eae37556",
   "metadata": {},
   "source": [
    "### NN layers and nodes configurations tested:\n",
    "- (64),(128),(256),(64,128),(128,256),(128,256,512),(64,32),(128,64),(128,64,32),(256,128,64),(256,64,32)\n",
    "- (512,256,64),(512,128,64),(512,64,32),(256,128,64,32),(512,256,128,64),(512,128,64,32)\n",
    "- (512,256,256,128,64),(512,1024,512,128,64),(512,256,128,64,32),(1024,512,256,128,64,32)\n",
    "- (4096,2048,1024, 512, 256, 128, 64, 32),(8192,4096,2048,1024, 512, 256, 128, 64, 32)\n",
    "\n"
   ]
  },
  {
   "cell_type": "code",
   "execution_count": 11,
   "id": "7d82e62f-3933-4979-a20b-041da60d1eb7",
   "metadata": {},
   "outputs": [],
   "source": [
    "#Define grid search parameters\n",
    "param_grid = {'estimator__activation':['relu'],\n",
    "              'estimator__hidden_layer_sizes':[(256, 128, 64, 32)],\n",
    "              'estimator__solver':['lbfgs','sgd', 'adam'],\n",
    "              'estimator__learning_rate':['constant', 'invscaling', 'adaptive'],\n",
    "              'estimator__momentum':[0.25,0.5,0.75],\n",
    "              'estimator__beta_1':[0.1,0.25,0.5],\n",
    "              'estimator__beta_2':[0.1,0.25,0.5]\n",
    "             }\n",
    "grid = GridSearchCV(mor,param_grid,n_jobs=6,cv=5)"
   ]
  },
  {
   "cell_type": "code",
   "execution_count": 12,
   "id": "49272c9d-3c62-4755-a303-72b1f8aa108f",
   "metadata": {},
   "outputs": [],
   "source": [
    "#Define grid search parameters\n",
    "param_grid = {'estimator__activation':['logistic', 'tanh', 'relu'],\n",
    "              'estimator__hidden_layer_sizes':[(2048,1024, 512, 256, 128, 64, 32)],\n",
    "              'estimator__solver':['lbfgs','sgd', 'adam'],\n",
    "              'estimator__learning_rate':['constant', 'invscaling', 'adaptive'],\n",
    "              'estimator__momentum':[0.25,0.5,0.75],\n",
    "              'estimator__beta_1':[0.1,0.25,0.5,0.7,0.9],\n",
    "              'estimator__beta_2':[0.025,0.05,0.1,0.25,0.5],\n",
    "              'estimator__alpha':[0.000025,0.00005,0.000075,0.0001,0.00025,0.0005],\n",
    "             }\n",
    "grid = GridSearchCV(mor,param_grid,n_jobs=6,cv=5)"
   ]
  },
  {
   "cell_type": "code",
   "execution_count": 11,
   "id": "16281bb8-2a8d-4ff5-a1f6-193e7749ab86",
   "metadata": {},
   "outputs": [],
   "source": [
    "#Found structure, solver and activation function. Finetune solver\n",
    "param_grid = { 'estimator__alpha':[0.000025,0.00005,0.000075]\n",
    "             }\n",
    "grid = GridSearchCV(mor,param_grid,n_jobs=-1,cv=5)"
   ]
  },
  {
   "cell_type": "code",
   "execution_count": 12,
   "id": "weird-papua",
   "metadata": {},
   "outputs": [
    {
     "data": {
      "text/plain": [
       "GridSearchCV(cv=5,\n",
       "             estimator=MultiOutputRegressor(estimator=MLPRegressor(beta_2=0.05,\n",
       "                                                                   early_stopping=True,\n",
       "                                                                   hidden_layer_sizes=(256,\n",
       "                                                                                       128,\n",
       "                                                                                       64,\n",
       "                                                                                       32),\n",
       "                                                                   max_iter=500,\n",
       "                                                                   random_state=1,\n",
       "                                                                   tol=0.001)),\n",
       "             n_jobs=-1,\n",
       "             param_grid={'estimator__alpha': [2.5e-05, 5e-05, 7.5e-05],\n",
       "                         'estimator__beta_1': [0.1, 0.3, 0.5],\n",
       "                         'estimator__learning_rate': ['constant', 'invscaling',\n",
       "                                                      'adaptive']})"
      ]
     },
     "execution_count": 12,
     "metadata": {},
     "output_type": "execute_result"
    }
   ],
   "source": [
    "#Run Grid search\n",
    "grid.fit(scaled_X_train,y_train)"
   ]
  },
  {
   "cell_type": "code",
   "execution_count": 13,
   "id": "ranging-extension",
   "metadata": {},
   "outputs": [
    {
     "data": {
      "text/plain": [
       "{'estimator__alpha': 7.5e-05,\n",
       " 'estimator__beta_1': 0.5,\n",
       " 'estimator__learning_rate': 'constant'}"
      ]
     },
     "execution_count": 13,
     "metadata": {},
     "output_type": "execute_result"
    }
   ],
   "source": [
    "#Display best parameter combination\n",
    "grid.best_params_"
   ]
  },
  {
   "cell_type": "code",
   "execution_count": 14,
   "id": "phantom-pencil",
   "metadata": {},
   "outputs": [],
   "source": [
    "#Calcualte predictions based on test data\n",
    "grid_pred = grid.predict(scaled_X_test)"
   ]
  },
  {
   "cell_type": "code",
   "execution_count": 15,
   "id": "6fd229c0-db8e-4db6-8bdd-92ca984096d6",
   "metadata": {},
   "outputs": [
    {
     "name": "stdout",
     "output_type": "stream",
     "text": [
      "MSE for first regressor: 0.3167534225324732 - second regressor: 0.0020502793632905126\n",
      "MAE for first regressor: 0.4073872071727252 - second regressor: 0.035520058200964905\n"
     ]
    }
   ],
   "source": [
    "#Display accuracy\n",
    "# Evaluate the regressor\n",
    "mse_one = mean_squared_error(y_test['mean'], grid_pred[:,0])\n",
    "mse_two = mean_squared_error(y_test['sd'], grid_pred[:,1])\n",
    "print(f'MSE for first regressor: {mse_one} - second regressor: {mse_two}')\n",
    "mae_one = mean_absolute_error(y_test['mean'], grid_pred[:,0])\n",
    "mae_two = mean_absolute_error(y_test['sd'], grid_pred[:,1])\n",
    "print(f'MAE for first regressor: {mae_one} - second regressor: {mae_two}')"
   ]
  },
  {
   "cell_type": "code",
   "execution_count": 95,
   "id": "cardiovascular-webmaster",
   "metadata": {},
   "outputs": [
    {
     "name": "stdout",
     "output_type": "stream",
     "text": [
      "MSE for first regressor: 0.28060971486827246 - second regressor: 0.0018864366452100646\n",
      "MAE for first regressor: 0.3794850509413987 - second regressor: 0.034212836254247904\n"
     ]
    }
   ],
   "source": [
    "#Display accuracy\n",
    "# Evaluate the regressor\n",
    "mse_one = mean_squared_error(y_test['mean'], grid_pred[:,0])\n",
    "mse_two = mean_squared_error(y_test['sd'], grid_pred[:,1])\n",
    "print(f'MSE for first regressor: {mse_one} - second regressor: {mse_two}')\n",
    "mae_one = mean_absolute_error(y_test['mean'], grid_pred[:,0])\n",
    "mae_two = mean_absolute_error(y_test['sd'], grid_pred[:,1])\n",
    "print(f'MAE for first regressor: {mae_one} - second regressor: {mae_two}')"
   ]
  },
  {
   "cell_type": "code",
   "execution_count": 69,
   "id": "limiting-picking",
   "metadata": {},
   "outputs": [],
   "source": [
    "y_test_single_diam=y_test['mean'].iloc[10]\n",
    "y_test_single_sd=y_test['sd'].iloc[10]"
   ]
  },
  {
   "cell_type": "code",
   "execution_count": 70,
   "id": "specified-colony",
   "metadata": {},
   "outputs": [],
   "source": [
    "y_pred_single_diam = grid.predict(scaled_X_test[10].reshape(1, -1))[0][0]\n",
    "y_pred_single_sd = grid.predict(scaled_X_test[10].reshape(1, -1))[0][1]"
   ]
  },
  {
   "cell_type": "code",
   "execution_count": 71,
   "id": "2741ee9c-e8f8-4450-9dce-7e45258728e2",
   "metadata": {},
   "outputs": [
    {
     "name": "stdout",
     "output_type": "stream",
     "text": [
      "The actual diameter was 0.72 and the model predicted 0.7514195039564033\n",
      "The actual sd was 0.0916959415779256 and the model predicted 0.10909870671583663\n"
     ]
    }
   ],
   "source": [
    "print(f\"The actual diameter was {y_test_single_diam} and the model predicted {y_pred_single_diam}\")\n",
    "print(f\"The actual sd was {y_test_single_sd} and the model predicted {y_pred_single_sd}\")"
   ]
  },
  {
   "cell_type": "markdown",
   "id": "90cc675c-62ac-4d23-a350-c8865b106306",
   "metadata": {},
   "source": [
    "## Optimal MLP Regression parameters\n",
    "- random_state=1, max_iter=500,tol=0.001,early_stopping=True,activation='relu',alpha=0.000075,\n",
    "                   hidden_layer_sizes=(2048, 1024, 512, 256, 128, 64, 32),solver='adam',beta_1=0.5,beta_2=0.05,learning_rate='constant'"
   ]
  },
  {
   "cell_type": "code",
   "execution_count": 8,
   "id": "desirable-seventh",
   "metadata": {},
   "outputs": [],
   "source": [
    "#Define final MLP\n",
    "mlp_fin = MLPRegressor(random_state=1, max_iter=500,tol=0.001,early_stopping=True,activation='relu',alpha=0.000075,\n",
    "                   hidden_layer_sizes=(2048, 1024, 512, 256, 128, 64, 32),solver='adam',beta_1=0.5,beta_2=0.05,learning_rate='constant')\n",
    "mor_fin = MultiOutputRegressor(mlp_fin)\n"
   ]
  },
  {
   "cell_type": "code",
   "execution_count": null,
   "id": "indian-salvation",
   "metadata": {},
   "outputs": [],
   "source": [
    "#Fit final svc\n",
    "start = time.time()\n",
    "mor_fin.fit(scaled_X_train,y_train)\n",
    "end = time.time()\n",
    "print('SVM fitting taken ', end-start,' seconds')"
   ]
  },
  {
   "cell_type": "code",
   "execution_count": 13,
   "id": "fallen-flood",
   "metadata": {},
   "outputs": [],
   "source": [
    "y_test_single_diam=y_test['mean'].iloc[30]\n",
    "y_test_single_sd=y_test['sd'].iloc[30]\n",
    "\n",
    "y_pred_single_diam = mor_fin.predict(scaled_X_test[30].reshape(1, -1))[0][0]\n",
    "y_pred_single_sd = mor_fin.predict(scaled_X_test[30].reshape(1, -1))[0][1]"
   ]
  },
  {
   "cell_type": "code",
   "execution_count": 14,
   "id": "7ced479c-7dd8-4f6d-9518-b80d5b3e8090",
   "metadata": {},
   "outputs": [
    {
     "name": "stdout",
     "output_type": "stream",
     "text": [
      "The actual diameter was 8.31 and the model predicted 8.583286900016857\n",
      "The actual sd was 0.103156086904102 and the model predicted 0.1410328365411205\n"
     ]
    }
   ],
   "source": [
    "print(f\"The actual diameter was {y_test_single_diam} and the model predicted {y_pred_single_diam}\")\n",
    "print(f\"The actual sd was {y_test_single_sd} and the model predicted {y_pred_single_sd}\")"
   ]
  },
  {
   "cell_type": "code",
   "execution_count": 15,
   "id": "6b73ccfc-9c96-4ec9-a389-eaa5af017a68",
   "metadata": {},
   "outputs": [],
   "source": [
    "y_pred_fin=mor_fin.predict(scaled_X_test)"
   ]
  },
  {
   "cell_type": "code",
   "execution_count": 16,
   "id": "ad9f7390-36f3-4a7c-bb62-0f59d85a23bf",
   "metadata": {},
   "outputs": [
    {
     "name": "stdout",
     "output_type": "stream",
     "text": [
      "MSE for first regressor: 0.8142250315092586 - second regressor: 0.004178018869916192\n",
      "MAE for first regressor: 0.6889790564782604 - second regressor: 0.05379979407605083\n"
     ]
    }
   ],
   "source": [
    "#Display accuracy\n",
    "# Evaluate the regressor\n",
    "mse_one = mean_squared_error(y_test['mean'], y_pred_fin[:,0])\n",
    "mse_two = mean_squared_error(y_test['sd'], y_pred_fin[:,1])\n",
    "print(f'MSE for first regressor: {mse_one} - second regressor: {mse_two}')\n",
    "mae_one = mean_absolute_error(y_test['mean'], y_pred_fin[:,0])\n",
    "mae_two = mean_absolute_error(y_test['sd'], y_pred_fin[:,1])\n",
    "print(f'MAE for first regressor: {mae_one} - second regressor: {mae_two}')"
   ]
  },
  {
   "cell_type": "markdown",
   "id": "9aa86168-0b7d-4f79-8f0b-225b902a786f",
   "metadata": {},
   "source": [
    "## Save model with joblib for persistence"
   ]
  },
  {
   "cell_type": "code",
   "execution_count": 17,
   "id": "4f939bb5-bf04-4299-9d7a-1ba3417ee815",
   "metadata": {},
   "outputs": [
    {
     "data": {
      "text/plain": [
       "['MLP_REGR.joblib']"
      ]
     },
     "execution_count": 17,
     "metadata": {},
     "output_type": "execute_result"
    }
   ],
   "source": [
    "dump(mor_fin, 'MLP_REGR.joblib')"
   ]
  },
  {
   "cell_type": "code",
   "execution_count": null,
   "id": "3b7826a7-741c-4433-898a-4347a92a897e",
   "metadata": {},
   "outputs": [],
   "source": []
  }
 ],
 "metadata": {
  "kernelspec": {
   "display_name": "Python 3",
   "language": "python",
   "name": "python3"
  },
  "language_info": {
   "codemirror_mode": {
    "name": "ipython",
    "version": 3
   },
   "file_extension": ".py",
   "mimetype": "text/x-python",
   "name": "python",
   "nbconvert_exporter": "python",
   "pygments_lexer": "ipython3",
   "version": "3.9.1"
  }
 },
 "nbformat": 4,
 "nbformat_minor": 5
}
