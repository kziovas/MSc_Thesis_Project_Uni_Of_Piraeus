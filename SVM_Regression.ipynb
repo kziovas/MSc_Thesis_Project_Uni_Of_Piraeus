{
 "cells": [
  {
   "cell_type": "code",
   "execution_count": 1,
   "id": "designing-northeast",
   "metadata": {},
   "outputs": [],
   "source": [
    "import random\n",
    "import math\n",
    "import csv\n",
    "import time\n",
    "import os\n",
    "import numpy as np\n",
    "import pandas as pd\n",
    "import seaborn as sns\n",
    "import matplotlib as mpl\n",
    "import matplotlib.pyplot as plt\n",
    "from matplotlib.ticker import (MultipleLocator, AutoMinorLocator)\n",
    "from sklearn.svm import SVR\n",
    "from sklearn.model_selection import GridSearchCV\n",
    "from sklearn.model_selection import train_test_split\n",
    "from sklearn.preprocessing import MinMaxScaler,StandardScaler\n",
    "from sklearn.metrics import accuracy_score,top_k_accuracy_score, mean_squared_error, mean_absolute_error\n",
    "from sklearn.calibration import CalibratedClassifierCV\n",
    "from sklearn.multioutput import MultiOutputRegressor\n",
    "from joblib import dump, load\n"
   ]
  },
  {
   "cell_type": "code",
   "execution_count": 2,
   "id": "inclusive-sleep",
   "metadata": {},
   "outputs": [],
   "source": [
    "numexpr=10000\n",
    "noise=0.001\n",
    "csv_path=f\"./data/train_data{numexpr}_noise{noise}.csv\"\n",
    "df = pd.read_csv(csv_path,index_col=0)"
   ]
  },
  {
   "cell_type": "code",
   "execution_count": 3,
   "id": "affecting-merchant",
   "metadata": {},
   "outputs": [],
   "source": [
    "#Split label from features\n",
    "X = df.drop(['mean','sd'],axis=1)\n",
    "y = df[['mean','sd']]"
   ]
  },
  {
   "cell_type": "code",
   "execution_count": 4,
   "id": "05ad8ac8-c3a0-445d-be2f-a2bd0b90dcdc",
   "metadata": {},
   "outputs": [
    {
     "data": {
      "text/html": [
       "<div>\n",
       "<style scoped>\n",
       "    .dataframe tbody tr th:only-of-type {\n",
       "        vertical-align: middle;\n",
       "    }\n",
       "\n",
       "    .dataframe tbody tr th {\n",
       "        vertical-align: top;\n",
       "    }\n",
       "\n",
       "    .dataframe thead th {\n",
       "        text-align: right;\n",
       "    }\n",
       "</style>\n",
       "<table border=\"1\" class=\"dataframe\">\n",
       "  <thead>\n",
       "    <tr style=\"text-align: right;\">\n",
       "      <th></th>\n",
       "      <th>mean</th>\n",
       "      <th>sd</th>\n",
       "    </tr>\n",
       "  </thead>\n",
       "  <tbody>\n",
       "    <tr>\n",
       "      <th>9994</th>\n",
       "      <td>4.11</td>\n",
       "      <td>0.163914</td>\n",
       "    </tr>\n",
       "    <tr>\n",
       "      <th>9995</th>\n",
       "      <td>5.74</td>\n",
       "      <td>0.025522</td>\n",
       "    </tr>\n",
       "    <tr>\n",
       "      <th>9996</th>\n",
       "      <td>5.89</td>\n",
       "      <td>0.080218</td>\n",
       "    </tr>\n",
       "    <tr>\n",
       "      <th>9997</th>\n",
       "      <td>3.34</td>\n",
       "      <td>0.052107</td>\n",
       "    </tr>\n",
       "    <tr>\n",
       "      <th>9998</th>\n",
       "      <td>2.90</td>\n",
       "      <td>0.005650</td>\n",
       "    </tr>\n",
       "  </tbody>\n",
       "</table>\n",
       "</div>"
      ],
      "text/plain": [
       "      mean        sd\n",
       "9994  4.11  0.163914\n",
       "9995  5.74  0.025522\n",
       "9996  5.89  0.080218\n",
       "9997  3.34  0.052107\n",
       "9998  2.90  0.005650"
      ]
     },
     "execution_count": 4,
     "metadata": {},
     "output_type": "execute_result"
    }
   ],
   "source": [
    "y.tail()"
   ]
  },
  {
   "cell_type": "code",
   "execution_count": 5,
   "id": "alone-economy",
   "metadata": {},
   "outputs": [],
   "source": [
    "#Split train and test data\n",
    "X_train, X_test, y_train, y_test = train_test_split(X, y, test_size=0.1, random_state=101)"
   ]
  },
  {
   "cell_type": "code",
   "execution_count": 6,
   "id": "laden-obligation",
   "metadata": {},
   "outputs": [],
   "source": [
    "#Scale data\n",
    "scaler = MinMaxScaler()#StandardScaler()#\n",
    "scaled_X_train = scaler.fit_transform(X_train)\n",
    "scaled_X_test = scaler.transform(X_test)"
   ]
  },
  {
   "cell_type": "code",
   "execution_count": 7,
   "id": "b4ceb54a-01b1-45a7-8307-037ea0c70e13",
   "metadata": {},
   "outputs": [
    {
     "name": "stdout",
     "output_type": "stream",
     "text": [
      "scaled: 0.6067711416580831 not scaled: 26.13788638675147\n"
     ]
    }
   ],
   "source": [
    "scaled_max=scaled_X_train[0].max()\n",
    "unscaled_max=X_train.iloc[0].values.reshape(1, -1).max()\n",
    "print(f\"scaled: {scaled_max} not scaled: {unscaled_max}\")"
   ]
  },
  {
   "cell_type": "code",
   "execution_count": 133,
   "id": "brown-proposal",
   "metadata": {},
   "outputs": [],
   "source": [
    "#Define svc\n",
    "svr = SVR()"
   ]
  },
  {
   "cell_type": "code",
   "execution_count": 134,
   "id": "2163c7de-3a89-4276-9df9-ec25e0a30510",
   "metadata": {},
   "outputs": [],
   "source": [
    "# Create the Multioutput Regressor\n",
    "mor = MultiOutputRegressor(svr)"
   ]
  },
  {
   "cell_type": "code",
   "execution_count": 135,
   "id": "female-honduras",
   "metadata": {},
   "outputs": [],
   "source": [
    "#Define grid search parameters\n",
    "param_grid = {'estimator__kernel':['linear', 'poly', 'rbf'],'estimator__C':[0.05,0.075,0.1,0.125,0.175,0.25],'estimator__gamma':['scale','auto'],\n",
    "              'estimator__degree':[2,3,4],'estimator__epsilon':[0.005,0.075,0.01,0.0125,0.025]}\n",
    "grid = GridSearchCV(mor,param_grid,n_jobs=-1,cv=5)"
   ]
  },
  {
   "cell_type": "code",
   "execution_count": 136,
   "id": "weird-papua",
   "metadata": {},
   "outputs": [
    {
     "data": {
      "text/plain": [
       "GridSearchCV(cv=5, estimator=MultiOutputRegressor(estimator=SVR()), n_jobs=-1,\n",
       "             param_grid={'estimator__C': [0.05, 0.075, 0.1, 0.125, 0.175, 0.25],\n",
       "                         'estimator__degree': [2, 3, 4],\n",
       "                         'estimator__epsilon': [0.005, 0.075, 0.01, 0.0125,\n",
       "                                                0.025],\n",
       "                         'estimator__gamma': ['scale', 'auto'],\n",
       "                         'estimator__kernel': ['linear', 'poly', 'rbf']})"
      ]
     },
     "execution_count": 136,
     "metadata": {},
     "output_type": "execute_result"
    }
   ],
   "source": [
    "#Run Grid search\n",
    "grid.fit(scaled_X_train,y_train)"
   ]
  },
  {
   "cell_type": "code",
   "execution_count": 137,
   "id": "ranging-extension",
   "metadata": {},
   "outputs": [
    {
     "data": {
      "text/plain": [
       "{'estimator__C': 0.125,\n",
       " 'estimator__degree': 2,\n",
       " 'estimator__epsilon': 0.0125,\n",
       " 'estimator__gamma': 'scale',\n",
       " 'estimator__kernel': 'rbf'}"
      ]
     },
     "execution_count": 137,
     "metadata": {},
     "output_type": "execute_result"
    }
   ],
   "source": [
    "#Display best parameter combination\n",
    "grid.best_params_"
   ]
  },
  {
   "cell_type": "code",
   "execution_count": 138,
   "id": "phantom-pencil",
   "metadata": {},
   "outputs": [],
   "source": [
    "#Calcualte predictions based on test data\n",
    "grid_pred = grid.predict(scaled_X_test)"
   ]
  },
  {
   "cell_type": "code",
   "execution_count": 139,
   "id": "cardiovascular-webmaster",
   "metadata": {},
   "outputs": [
    {
     "name": "stdout",
     "output_type": "stream",
     "text": [
      "MSE for first regressor: 0.41851039882238233 - second regressor: 0.0021424036292900426\n",
      "MAE for first regressor: 0.484755609498351 - second regressor: 0.0376605007485025\n"
     ]
    }
   ],
   "source": [
    "#Display accuracy\n",
    "# Evaluate the regressor\n",
    "mse_one = mean_squared_error(y_test['mean'], grid_pred[:,0])\n",
    "mse_two = mean_squared_error(y_test['sd'], grid_pred[:,1])\n",
    "print(f'MSE for first regressor: {mse_one} - second regressor: {mse_two}')\n",
    "mae_one = mean_absolute_error(y_test['mean'], grid_pred[:,0])\n",
    "mae_two = mean_absolute_error(y_test['sd'], grid_pred[:,1])\n",
    "print(f'MAE for first regressor: {mae_one} - second regressor: {mae_two}')"
   ]
  },
  {
   "cell_type": "code",
   "execution_count": 140,
   "id": "limiting-picking",
   "metadata": {},
   "outputs": [],
   "source": [
    "y_test_single_diam=y_test['mean'].iloc[10]\n",
    "y_test_single_sd=y_test['sd'].iloc[10]"
   ]
  },
  {
   "cell_type": "code",
   "execution_count": 141,
   "id": "specified-colony",
   "metadata": {},
   "outputs": [],
   "source": [
    "y_pred_single_diam = grid.predict(scaled_X_test[10].reshape(1, -1))[0][0]\n",
    "y_pred_single_sd = grid.predict(scaled_X_test[10].reshape(1, -1))[0][1]"
   ]
  },
  {
   "cell_type": "code",
   "execution_count": 142,
   "id": "2741ee9c-e8f8-4450-9dce-7e45258728e2",
   "metadata": {},
   "outputs": [
    {
     "name": "stdout",
     "output_type": "stream",
     "text": [
      "The actual diameter was 0.72 and the model predicted 0.7650615923277133\n",
      "The actual sd was 0.0916959415779256 and the model predicted 0.07228016206507633\n"
     ]
    }
   ],
   "source": [
    "print(f\"The actual diameter was {y_test_single_diam} and the model predicted {y_pred_single_diam}\")\n",
    "print(f\"The actual sd was {y_test_single_sd} and the model predicted {y_pred_single_sd}\")"
   ]
  },
  {
   "cell_type": "markdown",
   "id": "5a0158f5-cf09-4a22-9c2a-53a6f56e7acf",
   "metadata": {},
   "source": [
    "## Optimal SVM Regression parameters\n",
    "- kernel= 'rbf',C= 0.125,epsilon= 0.0125,gamma= 'scale'"
   ]
  },
  {
   "cell_type": "code",
   "execution_count": 8,
   "id": "desirable-seventh",
   "metadata": {},
   "outputs": [],
   "source": [
    "#Define final SVC\n",
    "svr_fin=SVR(kernel= 'rbf',C= 0.125,epsilon= 0.0125,gamma= 'scale')\n",
    "mor_fin = MultiOutputRegressor(svr_fin)\n"
   ]
  },
  {
   "cell_type": "code",
   "execution_count": 9,
   "id": "indian-salvation",
   "metadata": {},
   "outputs": [
    {
     "name": "stdout",
     "output_type": "stream",
     "text": [
      "SVM fitting taken  15.90216851234436  seconds\n"
     ]
    }
   ],
   "source": [
    "#Fit final svc\n",
    "start = time.time()\n",
    "mor_fin.fit(scaled_X_train,y_train)\n",
    "end = time.time()\n",
    "print('SVM fitting taken ', end-start,' seconds')"
   ]
  },
  {
   "cell_type": "code",
   "execution_count": 11,
   "id": "fallen-flood",
   "metadata": {},
   "outputs": [],
   "source": [
    "y_test_single_diam=y_test['mean'].iloc[20]\n",
    "y_test_single_sd=y_test['sd'].iloc[20]\n",
    "\n",
    "y_pred_single_diam = mor_fin.predict(scaled_X_test[20].reshape(1, -1))[0][0]\n",
    "y_pred_single_sd = mor_fin.predict(scaled_X_test[20].reshape(1, -1))[0][1]"
   ]
  },
  {
   "cell_type": "code",
   "execution_count": 12,
   "id": "7ced479c-7dd8-4f6d-9518-b80d5b3e8090",
   "metadata": {},
   "outputs": [
    {
     "name": "stdout",
     "output_type": "stream",
     "text": [
      "The actual diameter was 7.62 and the model predicted 8.1677963059781\n",
      "The actual sd was 0.1326669214983239 and the model predicted 0.11684243147345584\n"
     ]
    }
   ],
   "source": [
    "print(f\"The actual diameter was {y_test_single_diam} and the model predicted {y_pred_single_diam}\")\n",
    "print(f\"The actual sd was {y_test_single_sd} and the model predicted {y_pred_single_sd}\")"
   ]
  },
  {
   "cell_type": "code",
   "execution_count": 13,
   "id": "6b73ccfc-9c96-4ec9-a389-eaa5af017a68",
   "metadata": {},
   "outputs": [],
   "source": [
    "y_pred_fin=mor_fin.predict(scaled_X_test)"
   ]
  },
  {
   "cell_type": "code",
   "execution_count": 14,
   "id": "ffa489b2-03df-4247-8a66-7caf8305ab4e",
   "metadata": {},
   "outputs": [
    {
     "name": "stdout",
     "output_type": "stream",
     "text": [
      "MSE for first regressor: 0.8263753787523851 - second regressor: 0.0043906403507364775\n",
      "MAE for first regressor: 0.6928008851399665 - second regressor: 0.05488356951935218\n"
     ]
    }
   ],
   "source": [
    "# Evaluate the regressor\n",
    "mse_one = mean_squared_error(y_test['mean'], y_pred_fin[:,0])\n",
    "mse_two = mean_squared_error(y_test['sd'], y_pred_fin[:,1])\n",
    "print(f'MSE for first regressor: {mse_one} - second regressor: {mse_two}')\n",
    "mae_one = mean_absolute_error(y_test['mean'], y_pred_fin[:,0])\n",
    "mae_two = mean_absolute_error(y_test['sd'], y_pred_fin[:,1])\n",
    "print(f'MAE for first regressor: {mae_one} - second regressor: {mae_two}')"
   ]
  },
  {
   "cell_type": "markdown",
   "id": "9c4a4db3-b7ec-4bd6-abfe-d3d3ea9e06a0",
   "metadata": {},
   "source": [
    "## Save model with joblib for persistence"
   ]
  },
  {
   "cell_type": "code",
   "execution_count": 15,
   "id": "5743e9d2-6574-4162-8613-5b092c8678f1",
   "metadata": {},
   "outputs": [
    {
     "data": {
      "text/plain": [
       "['SVM_REGR.joblib']"
      ]
     },
     "execution_count": 15,
     "metadata": {},
     "output_type": "execute_result"
    }
   ],
   "source": [
    "dump(mor_fin, 'models/SVM_REGR.joblib')"
   ]
  },
  {
   "cell_type": "code",
   "execution_count": null,
   "id": "d962173c-f510-4aa1-bdb5-6a2df610cea8",
   "metadata": {},
   "outputs": [],
   "source": []
  }
 ],
 "metadata": {
  "kernelspec": {
   "display_name": "Python 3",
   "language": "python",
   "name": "python3"
  },
  "language_info": {
   "codemirror_mode": {
    "name": "ipython",
    "version": 3
   },
   "file_extension": ".py",
   "mimetype": "text/x-python",
   "name": "python",
   "nbconvert_exporter": "python",
   "pygments_lexer": "ipython3",
   "version": "3.9.1"
  }
 },
 "nbformat": 4,
 "nbformat_minor": 5
}
