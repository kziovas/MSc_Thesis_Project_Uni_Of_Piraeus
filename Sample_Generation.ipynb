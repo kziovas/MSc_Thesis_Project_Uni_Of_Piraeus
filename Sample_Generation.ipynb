{
 "cells": [
  {
   "cell_type": "code",
   "execution_count": 2,
   "id": "pacific-theta",
   "metadata": {},
   "outputs": [],
   "source": [
    "import random\n",
    "import math\n",
    "import csv\n",
    "import time\n",
    "import os\n",
    "import numpy as np\n",
    "import pandas as pd\n",
    "import seaborn as sns\n",
    "import matplotlib.pyplot as plt\n",
    "import multiprocessing\n",
    "from multiprocessing import Pool\n",
    "from functools import partial\n",
    "from itertools import product\n",
    "from sphere_sim_methods import simdata,add_header,sim_df_fix_increment,sim_df_rand_sizes,noise_func\n"
   ]
  },
  {
   "cell_type": "code",
   "execution_count": 3,
   "id": "trained-regular",
   "metadata": {},
   "outputs": [],
   "source": [
    "        \n",
    "        \n",
    "#------------------------------------------------------------------------------------#\n",
    "#------------------------------Main Function-----------------------------------------#\n",
    "#------------------------------------------------------------------------------------#       \n",
    "\n",
    "if __name__ == '__main__':\n",
    "    #1-10 pixel\n",
    "    #s 0.025 + 0.025 ews 0.1\n",
    "    \n",
    "    #SD parameter definition\n",
    "    #sd_step=0.025#Increments of sphere standard deviation if fixed increment function is used\n",
    "    sd_max=0#0.25\n",
    "    sd_min=0\n",
    "    \n",
    "\n",
    "    \n",
    "    #Mean diameter parameter definition\n",
    "    #diam_step=0.5 #Increments of sphere diameter if fixed increment function is used\n",
    "    diam_max=6#11\n",
    "    diam_min=6#2#lowest diameter where the range starts from\n",
    "   \n",
    "\n",
    "   \n",
    "    numexpr=400\n",
    "    noise=[0.001]#[0.001,0.0025,0.005,0.01,0.025,0.05,0.1,0.25,0.5]#Noise levels to be simulated as percentages\n",
    "\n",
    "    sphere_num=-1#If the user gives -1 as numsph the sphere number changes every time\n",
    "    dim=256 #number of k-space points\n",
    "    \n",
    "    \"\"\"\n",
    "    sim_df_partial=partial(sim_df_fix_increment, diam_min=diam_min,diam_max=diam_max,diam_step=diam_step,\n",
    "                 sd_min=sd_min,sd_max=sd_max,sd_step=sd_step,sphere_num=sphere_num,numexpr=numexpr,dim=dim)\n",
    "    \"\"\"\n",
    "    \n",
    "    sim_df_partial=partial(sim_df_rand_sizes, diam_min=diam_min,diam_max=diam_max,\n",
    "                           sd_min=sd_min, sd_max=sd_max,sphere_num=sphere_num,numexpr=numexpr,dim=dim)\n",
    "    \n",
    "    with multiprocessing.Pool(processes=len(noise)) as pool:\n",
    "        pool.map(sim_df_partial, noise)\n",
    "    #print(result_list)\n",
    "    \n",
    "\n",
    "\n",
    "      \n",
    "\n"
   ]
  },
  {
   "cell_type": "code",
   "execution_count": null,
   "id": "available-devon",
   "metadata": {},
   "outputs": [],
   "source": []
  }
 ],
 "metadata": {
  "kernelspec": {
   "display_name": "Python 3",
   "language": "python",
   "name": "python3"
  },
  "language_info": {
   "codemirror_mode": {
    "name": "ipython",
    "version": 3
   },
   "file_extension": ".py",
   "mimetype": "text/x-python",
   "name": "python",
   "nbconvert_exporter": "python",
   "pygments_lexer": "ipython3",
   "version": "3.9.1"
  }
 },
 "nbformat": 4,
 "nbformat_minor": 5
}
