{
 "cells": [
  {
   "cell_type": "code",
   "execution_count": 1,
   "id": "designing-northeast",
   "metadata": {},
   "outputs": [],
   "source": [
    "import random\n",
    "import math\n",
    "import csv\n",
    "import time\n",
    "import os\n",
    "import numpy as np\n",
    "import pandas as pd\n",
    "import seaborn as sns\n",
    "import matplotlib.pyplot as plt\n",
    "from sklearn.svm import SVC\n",
    "from sklearn.model_selection import GridSearchCV\n",
    "from sklearn.model_selection import train_test_split\n",
    "from sklearn.preprocessing import MinMaxScaler\n",
    "from sklearn.metrics import accuracy_score,top_k_accuracy_score\n",
    "from sklearn.calibration import CalibratedClassifierCV"
   ]
  },
  {
   "cell_type": "code",
   "execution_count": 2,
   "id": "inclusive-sleep",
   "metadata": {},
   "outputs": [],
   "source": [
    "numexpr=10000\n",
    "noise=0.001\n",
    "csv_path=f\"./data/train_data{numexpr}_noise{noise}.csv\"\n",
    "df = pd.read_csv(csv_path,index_col=0)"
   ]
  },
  {
   "cell_type": "code",
   "execution_count": 3,
   "id": "mathematical-component",
   "metadata": {},
   "outputs": [],
   "source": [
    "#Concatenate mean diameter and s column into a single label column\n",
    "df['distribution'] = 'mean'+df['mean'].map(str) +'sd'+ df['sd'].map(str) \n",
    "df=df.drop(['mean', 'sd'], axis=1)"
   ]
  },
  {
   "cell_type": "code",
   "execution_count": 4,
   "id": "direct-fountain",
   "metadata": {},
   "outputs": [
    {
     "data": {
      "text/html": [
       "<div>\n",
       "<style scoped>\n",
       "    .dataframe tbody tr th:only-of-type {\n",
       "        vertical-align: middle;\n",
       "    }\n",
       "\n",
       "    .dataframe tbody tr th {\n",
       "        vertical-align: top;\n",
       "    }\n",
       "\n",
       "    .dataframe thead th {\n",
       "        text-align: right;\n",
       "    }\n",
       "</style>\n",
       "<table border=\"1\" class=\"dataframe\">\n",
       "  <thead>\n",
       "    <tr style=\"text-align: right;\">\n",
       "      <th></th>\n",
       "      <th>kpoint-127.0</th>\n",
       "      <th>kpoint-126.0</th>\n",
       "      <th>kpoint-125.0</th>\n",
       "      <th>kpoint-124.0</th>\n",
       "      <th>kpoint-123.0</th>\n",
       "      <th>kpoint-122.0</th>\n",
       "      <th>kpoint-121.0</th>\n",
       "      <th>kpoint-120.0</th>\n",
       "      <th>kpoint-119.0</th>\n",
       "      <th>kpoint-118.0</th>\n",
       "      <th>...</th>\n",
       "      <th>kpoint-8.0</th>\n",
       "      <th>kpoint-7.0</th>\n",
       "      <th>kpoint-6.0</th>\n",
       "      <th>kpoint-5.0</th>\n",
       "      <th>kpoint-4.0</th>\n",
       "      <th>kpoint-3.0</th>\n",
       "      <th>kpoint-2.0</th>\n",
       "      <th>kpoint-1.0</th>\n",
       "      <th>kpoint0.0</th>\n",
       "      <th>distribution</th>\n",
       "    </tr>\n",
       "  </thead>\n",
       "  <tbody>\n",
       "    <tr>\n",
       "      <th>17994</th>\n",
       "      <td>0.951431</td>\n",
       "      <td>1.486857</td>\n",
       "      <td>2.093037</td>\n",
       "      <td>0.286452</td>\n",
       "      <td>3.152330</td>\n",
       "      <td>1.020971</td>\n",
       "      <td>2.434849</td>\n",
       "      <td>3.225991</td>\n",
       "      <td>0.855807</td>\n",
       "      <td>2.042384</td>\n",
       "      <td>...</td>\n",
       "      <td>22.560598</td>\n",
       "      <td>19.833429</td>\n",
       "      <td>14.886528</td>\n",
       "      <td>25.802806</td>\n",
       "      <td>39.572794</td>\n",
       "      <td>26.891573</td>\n",
       "      <td>17.691009</td>\n",
       "      <td>68.548991</td>\n",
       "      <td>38.274064</td>\n",
       "      <td>mean10.0sd2.0</td>\n",
       "    </tr>\n",
       "    <tr>\n",
       "      <th>17995</th>\n",
       "      <td>1.507925</td>\n",
       "      <td>1.795566</td>\n",
       "      <td>2.544967</td>\n",
       "      <td>0.650658</td>\n",
       "      <td>2.363569</td>\n",
       "      <td>1.089463</td>\n",
       "      <td>1.978059</td>\n",
       "      <td>2.409336</td>\n",
       "      <td>1.968731</td>\n",
       "      <td>3.118284</td>\n",
       "      <td>...</td>\n",
       "      <td>34.868134</td>\n",
       "      <td>47.609525</td>\n",
       "      <td>15.939395</td>\n",
       "      <td>8.790397</td>\n",
       "      <td>11.026781</td>\n",
       "      <td>23.102719</td>\n",
       "      <td>15.421562</td>\n",
       "      <td>26.304429</td>\n",
       "      <td>32.457574</td>\n",
       "      <td>mean10.0sd2.0</td>\n",
       "    </tr>\n",
       "    <tr>\n",
       "      <th>17996</th>\n",
       "      <td>3.876576</td>\n",
       "      <td>1.167043</td>\n",
       "      <td>0.809928</td>\n",
       "      <td>1.363216</td>\n",
       "      <td>3.255415</td>\n",
       "      <td>2.998341</td>\n",
       "      <td>1.352590</td>\n",
       "      <td>2.126336</td>\n",
       "      <td>1.640195</td>\n",
       "      <td>2.590011</td>\n",
       "      <td>...</td>\n",
       "      <td>37.797992</td>\n",
       "      <td>42.910913</td>\n",
       "      <td>29.228842</td>\n",
       "      <td>35.875462</td>\n",
       "      <td>11.859695</td>\n",
       "      <td>54.812820</td>\n",
       "      <td>14.787574</td>\n",
       "      <td>43.030280</td>\n",
       "      <td>44.739941</td>\n",
       "      <td>mean10.0sd2.0</td>\n",
       "    </tr>\n",
       "    <tr>\n",
       "      <th>17997</th>\n",
       "      <td>1.319944</td>\n",
       "      <td>0.459081</td>\n",
       "      <td>1.416416</td>\n",
       "      <td>1.414840</td>\n",
       "      <td>3.819048</td>\n",
       "      <td>1.565074</td>\n",
       "      <td>1.113632</td>\n",
       "      <td>1.261733</td>\n",
       "      <td>1.791418</td>\n",
       "      <td>4.252774</td>\n",
       "      <td>...</td>\n",
       "      <td>32.460489</td>\n",
       "      <td>30.481559</td>\n",
       "      <td>8.638896</td>\n",
       "      <td>33.955203</td>\n",
       "      <td>20.359816</td>\n",
       "      <td>24.507833</td>\n",
       "      <td>35.966531</td>\n",
       "      <td>29.612428</td>\n",
       "      <td>25.880349</td>\n",
       "      <td>mean10.0sd2.0</td>\n",
       "    </tr>\n",
       "    <tr>\n",
       "      <th>17998</th>\n",
       "      <td>2.161387</td>\n",
       "      <td>0.449817</td>\n",
       "      <td>1.257150</td>\n",
       "      <td>3.934188</td>\n",
       "      <td>2.823400</td>\n",
       "      <td>2.861539</td>\n",
       "      <td>2.461454</td>\n",
       "      <td>0.600201</td>\n",
       "      <td>3.103224</td>\n",
       "      <td>3.805818</td>\n",
       "      <td>...</td>\n",
       "      <td>12.973458</td>\n",
       "      <td>31.611631</td>\n",
       "      <td>43.006722</td>\n",
       "      <td>25.355662</td>\n",
       "      <td>82.323493</td>\n",
       "      <td>62.033148</td>\n",
       "      <td>68.416039</td>\n",
       "      <td>46.474658</td>\n",
       "      <td>16.018643</td>\n",
       "      <td>mean10.0sd2.0</td>\n",
       "    </tr>\n",
       "  </tbody>\n",
       "</table>\n",
       "<p>5 rows × 129 columns</p>\n",
       "</div>"
      ],
      "text/plain": [
       "       kpoint-127.0  kpoint-126.0  kpoint-125.0  kpoint-124.0  kpoint-123.0  \\\n",
       "17994      0.951431      1.486857      2.093037      0.286452      3.152330   \n",
       "17995      1.507925      1.795566      2.544967      0.650658      2.363569   \n",
       "17996      3.876576      1.167043      0.809928      1.363216      3.255415   \n",
       "17997      1.319944      0.459081      1.416416      1.414840      3.819048   \n",
       "17998      2.161387      0.449817      1.257150      3.934188      2.823400   \n",
       "\n",
       "       kpoint-122.0  kpoint-121.0  kpoint-120.0  kpoint-119.0  kpoint-118.0  \\\n",
       "17994      1.020971      2.434849      3.225991      0.855807      2.042384   \n",
       "17995      1.089463      1.978059      2.409336      1.968731      3.118284   \n",
       "17996      2.998341      1.352590      2.126336      1.640195      2.590011   \n",
       "17997      1.565074      1.113632      1.261733      1.791418      4.252774   \n",
       "17998      2.861539      2.461454      0.600201      3.103224      3.805818   \n",
       "\n",
       "       ...  kpoint-8.0  kpoint-7.0  kpoint-6.0  kpoint-5.0  kpoint-4.0  \\\n",
       "17994  ...   22.560598   19.833429   14.886528   25.802806   39.572794   \n",
       "17995  ...   34.868134   47.609525   15.939395    8.790397   11.026781   \n",
       "17996  ...   37.797992   42.910913   29.228842   35.875462   11.859695   \n",
       "17997  ...   32.460489   30.481559    8.638896   33.955203   20.359816   \n",
       "17998  ...   12.973458   31.611631   43.006722   25.355662   82.323493   \n",
       "\n",
       "       kpoint-3.0  kpoint-2.0  kpoint-1.0  kpoint0.0   distribution  \n",
       "17994   26.891573   17.691009   68.548991  38.274064  mean10.0sd2.0  \n",
       "17995   23.102719   15.421562   26.304429  32.457574  mean10.0sd2.0  \n",
       "17996   54.812820   14.787574   43.030280  44.739941  mean10.0sd2.0  \n",
       "17997   24.507833   35.966531   29.612428  25.880349  mean10.0sd2.0  \n",
       "17998   62.033148   68.416039   46.474658  16.018643  mean10.0sd2.0  \n",
       "\n",
       "[5 rows x 129 columns]"
      ]
     },
     "execution_count": 4,
     "metadata": {},
     "output_type": "execute_result"
    }
   ],
   "source": [
    "df.tail()"
   ]
  },
  {
   "cell_type": "code",
   "execution_count": 5,
   "id": "individual-terror",
   "metadata": {},
   "outputs": [
    {
     "data": {
      "text/plain": [
       "180"
      ]
     },
     "execution_count": 5,
     "metadata": {},
     "output_type": "execute_result"
    }
   ],
   "source": [
    "df['distribution'].nunique()"
   ]
  },
  {
   "cell_type": "code",
   "execution_count": 6,
   "id": "colored-sphere",
   "metadata": {},
   "outputs": [
    {
     "data": {
      "text/plain": [
       "array(['mean0.5sd0.0', 'mean1.0sd0.0', 'mean1.5sd0.0', 'mean2.0sd0.0',\n",
       "       'mean2.5sd0.0', 'mean3.0sd0.0', 'mean3.5sd0.0', 'mean4.0sd0.0',\n",
       "       'mean4.5sd0.0', 'mean5.0sd0.0', 'mean5.5sd0.0', 'mean6.0sd0.0',\n",
       "       'mean6.5sd0.0', 'mean7.0sd0.0', 'mean7.5sd0.0', 'mean8.0sd0.0',\n",
       "       'mean8.5sd0.0', 'mean9.0sd0.0', 'mean9.5sd0.0', 'mean10.0sd0.0',\n",
       "       'mean0.5sd0.013', 'mean1.0sd0.025', 'mean1.5sd0.038',\n",
       "       'mean2.0sd0.05', 'mean2.5sd0.062', 'mean3.0sd0.075',\n",
       "       'mean3.5sd0.088', 'mean4.0sd0.1', 'mean4.5sd0.113',\n",
       "       'mean5.0sd0.125', 'mean5.5sd0.138', 'mean6.0sd0.15',\n",
       "       'mean6.5sd0.163', 'mean7.0sd0.175', 'mean7.5sd0.188',\n",
       "       'mean8.0sd0.2', 'mean8.5sd0.213', 'mean9.0sd0.225',\n",
       "       'mean9.5sd0.238', 'mean10.0sd0.25', 'mean0.5sd0.025',\n",
       "       'mean1.0sd0.05', 'mean1.5sd0.075', 'mean2.0sd0.1',\n",
       "       'mean2.5sd0.125', 'mean3.0sd0.15', 'mean3.5sd0.175',\n",
       "       'mean4.0sd0.2', 'mean4.5sd0.225', 'mean5.0sd0.25',\n",
       "       'mean5.5sd0.275', 'mean6.0sd0.3', 'mean6.5sd0.325',\n",
       "       'mean7.0sd0.35', 'mean7.5sd0.375', 'mean8.0sd0.4',\n",
       "       'mean8.5sd0.425', 'mean9.0sd0.45', 'mean9.5sd0.475',\n",
       "       'mean10.0sd0.5', 'mean0.5sd0.037', 'mean1.0sd0.075',\n",
       "       'mean1.5sd0.112', 'mean2.0sd0.15', 'mean2.5sd0.188',\n",
       "       'mean3.0sd0.225', 'mean3.5sd0.263', 'mean4.0sd0.3',\n",
       "       'mean4.5sd0.337', 'mean5.0sd0.375', 'mean5.5sd0.412',\n",
       "       'mean6.0sd0.45', 'mean6.5sd0.487', 'mean7.0sd0.525',\n",
       "       'mean7.5sd0.562', 'mean8.0sd0.6', 'mean8.5sd0.637',\n",
       "       'mean9.0sd0.675', 'mean9.5sd0.713', 'mean10.0sd0.75',\n",
       "       'mean0.5sd0.05', 'mean1.0sd0.1', 'mean1.5sd0.15', 'mean2.0sd0.2',\n",
       "       'mean2.5sd0.25', 'mean3.0sd0.3', 'mean3.5sd0.35', 'mean4.0sd0.4',\n",
       "       'mean4.5sd0.45', 'mean5.0sd0.5', 'mean5.5sd0.55', 'mean6.0sd0.6',\n",
       "       'mean6.5sd0.65', 'mean7.0sd0.7', 'mean7.5sd0.75', 'mean8.0sd0.8',\n",
       "       'mean8.5sd0.85', 'mean9.0sd0.9', 'mean9.5sd0.95', 'mean10.0sd1.0',\n",
       "       'mean0.5sd0.062', 'mean1.0sd0.125', 'mean1.5sd0.188',\n",
       "       'mean2.0sd0.25', 'mean2.5sd0.312', 'mean3.0sd0.375',\n",
       "       'mean3.5sd0.438', 'mean4.0sd0.5', 'mean4.5sd0.562',\n",
       "       'mean5.0sd0.625', 'mean5.5sd0.688', 'mean6.0sd0.75',\n",
       "       'mean6.5sd0.812', 'mean7.0sd0.875', 'mean7.5sd0.938',\n",
       "       'mean8.0sd1.0', 'mean8.5sd1.062', 'mean9.0sd1.125',\n",
       "       'mean9.5sd1.188', 'mean10.0sd1.25', 'mean0.5sd0.075',\n",
       "       'mean1.0sd0.15', 'mean1.5sd0.225', 'mean2.0sd0.3',\n",
       "       'mean2.5sd0.375', 'mean3.0sd0.45', 'mean3.5sd0.525',\n",
       "       'mean4.0sd0.6', 'mean4.5sd0.675', 'mean5.0sd0.75',\n",
       "       'mean5.5sd0.825', 'mean6.0sd0.9', 'mean6.5sd0.975',\n",
       "       'mean7.0sd1.05', 'mean7.5sd1.125', 'mean8.0sd1.2',\n",
       "       'mean8.5sd1.275', 'mean9.0sd1.35', 'mean9.5sd1.425',\n",
       "       'mean10.0sd1.5', 'mean0.5sd0.087', 'mean1.0sd0.175',\n",
       "       'mean1.5sd0.262', 'mean2.0sd0.35', 'mean2.5sd0.438',\n",
       "       'mean3.0sd0.525', 'mean3.5sd0.612', 'mean4.0sd0.7',\n",
       "       'mean4.5sd0.787', 'mean5.0sd0.875', 'mean5.5sd0.962',\n",
       "       'mean6.0sd1.05', 'mean6.5sd1.137', 'mean7.0sd1.225',\n",
       "       'mean7.5sd1.312', 'mean8.0sd1.4', 'mean8.5sd1.487',\n",
       "       'mean9.0sd1.575', 'mean9.5sd1.662', 'mean10.0sd1.75',\n",
       "       'mean0.5sd0.1', 'mean1.0sd0.2', 'mean1.5sd0.3', 'mean2.0sd0.4',\n",
       "       'mean2.5sd0.5', 'mean3.0sd0.6', 'mean3.5sd0.7', 'mean4.0sd0.8',\n",
       "       'mean4.5sd0.9', 'mean5.0sd1.0', 'mean5.5sd1.1', 'mean6.0sd1.2',\n",
       "       'mean6.5sd1.3', 'mean7.0sd1.4', 'mean7.5sd1.5', 'mean8.0sd1.6',\n",
       "       'mean8.5sd1.7', 'mean9.0sd1.8', 'mean9.5sd1.9', 'mean10.0sd2.0'],\n",
       "      dtype=object)"
      ]
     },
     "execution_count": 6,
     "metadata": {},
     "output_type": "execute_result"
    }
   ],
   "source": [
    "df['distribution'].unique()"
   ]
  },
  {
   "cell_type": "code",
   "execution_count": 7,
   "id": "affecting-merchant",
   "metadata": {},
   "outputs": [],
   "source": [
    "#Split label from features\n",
    "X = df.drop('distribution',axis=1)\n",
    "y = df['distribution']"
   ]
  },
  {
   "cell_type": "code",
   "execution_count": 8,
   "id": "alone-economy",
   "metadata": {},
   "outputs": [],
   "source": [
    "#Split train and test data\n",
    "X_train, X_test, y_train, y_test = train_test_split(X, y, test_size=0.1, random_state=101)"
   ]
  },
  {
   "cell_type": "code",
   "execution_count": 9,
   "id": "laden-obligation",
   "metadata": {},
   "outputs": [],
   "source": [
    "#Scale data\n",
    "scaler = MinMaxScaler()\n",
    "scaled_X_train = scaler.fit_transform(X_train)\n",
    "scaled_X_test = scaler.transform(X_test)"
   ]
  },
  {
   "cell_type": "code",
   "execution_count": null,
   "id": "brown-proposal",
   "metadata": {},
   "outputs": [],
   "source": [
    "#Define svc\n",
    "svc = SVC()"
   ]
  },
  {
   "cell_type": "code",
   "execution_count": null,
   "id": "female-honduras",
   "metadata": {},
   "outputs": [],
   "source": [
    "#Define grid search parameters\n",
    "param_grid = {'kernel':['linear', 'poly', 'rbf'],'C':[0.01,0.05,0.1,0.25,0.5,0.75,1,2.5,5],'gamma':['scale','auto']}\n",
    "grid = GridSearchCV(svc,param_grid,n_jobs=6,cv=5)"
   ]
  },
  {
   "cell_type": "code",
   "execution_count": null,
   "id": "weird-papua",
   "metadata": {},
   "outputs": [],
   "source": [
    "#Run Grid search\n",
    "grid.fit(scaled_X_train,y_train)"
   ]
  },
  {
   "cell_type": "code",
   "execution_count": null,
   "id": "ranging-extension",
   "metadata": {},
   "outputs": [],
   "source": [
    "#Display best parameter combination\n",
    "grid.best_params_"
   ]
  },
  {
   "cell_type": "code",
   "execution_count": null,
   "id": "phantom-pencil",
   "metadata": {},
   "outputs": [],
   "source": [
    "#Calcualte predictions based on test data\n",
    "grid_pred = grid.predict(scaled_X_test)"
   ]
  },
  {
   "cell_type": "code",
   "execution_count": null,
   "id": "cardiovascular-webmaster",
   "metadata": {},
   "outputs": [],
   "source": [
    "#Display accuracy\n",
    "accuracy_score(y_test, grid_pred)"
   ]
  },
  {
   "cell_type": "code",
   "execution_count": null,
   "id": "exciting-citizenship",
   "metadata": {},
   "outputs": [],
   "source": [
    "scaled_X_test[30]"
   ]
  },
  {
   "cell_type": "code",
   "execution_count": 22,
   "id": "limiting-picking",
   "metadata": {},
   "outputs": [
    {
     "data": {
      "text/plain": [
       "'mean6.5sd0.975'"
      ]
     },
     "execution_count": 22,
     "metadata": {},
     "output_type": "execute_result"
    }
   ],
   "source": [
    "y_test.iloc[30]\n"
   ]
  },
  {
   "cell_type": "code",
   "execution_count": null,
   "id": "specified-colony",
   "metadata": {},
   "outputs": [],
   "source": [
    "y_pred=grid.predict(scaled_X_test[30].reshape(1, -1))\n",
    "y_pred"
   ]
  },
  {
   "cell_type": "code",
   "execution_count": 10,
   "id": "desirable-seventh",
   "metadata": {},
   "outputs": [],
   "source": [
    "#Define final SVC\n",
    "svc_fin=SVC(C= 5, gamma= 'scale', kernel= 'rbf',probability=True)"
   ]
  },
  {
   "cell_type": "code",
   "execution_count": 11,
   "id": "indian-salvation",
   "metadata": {},
   "outputs": [
    {
     "data": {
      "text/plain": [
       "SVC(C=5, probability=True)"
      ]
     },
     "execution_count": 11,
     "metadata": {},
     "output_type": "execute_result"
    }
   ],
   "source": [
    "#Fit final svc\n",
    "svc_fin.fit(scaled_X_train,y_train)"
   ]
  },
  {
   "cell_type": "code",
   "execution_count": 12,
   "id": "nonprofit-neutral",
   "metadata": {},
   "outputs": [
    {
     "data": {
      "text/plain": [
       "array([[0.00026111, 0.0002625 , 0.00026367, 0.00026798, 0.00026945,\n",
       "        0.00027514, 0.00027641, 0.00028213, 0.00028862, 0.00031029,\n",
       "        0.00030847, 0.00031126, 0.0002922 , 0.00031356, 0.00031339,\n",
       "        0.00031   , 0.00031282, 0.00030761, 0.00029833, 0.00029668,\n",
       "        0.00030148, 0.00030348, 0.00029457, 0.00029141, 0.00030161,\n",
       "        0.00029699, 0.00032608, 0.000399  , 0.00049026, 0.00084275,\n",
       "        0.00103364, 0.0008093 , 0.00071603, 0.00126826, 0.00070912,\n",
       "        0.00056621, 0.00026443, 0.00026399, 0.00027676, 0.00030387,\n",
       "        0.00033551, 0.00033302, 0.00036132, 0.00035472, 0.00044631,\n",
       "        0.00040344, 0.00034892, 0.00040431, 0.00039782, 0.00039891,\n",
       "        0.0004375 , 0.0003767 , 0.00044044, 0.00047902, 0.00036084,\n",
       "        0.00034402, 0.0003342 , 0.00037163, 0.00039547, 0.00044264,\n",
       "        0.00047071, 0.00046227, 0.00058362, 0.00036218, 0.00034972,\n",
       "        0.00034735, 0.00033813, 0.00040276, 0.00047885, 0.0006583 ,\n",
       "        0.00083922, 0.00106001, 0.00029414, 0.00036321, 0.00035991,\n",
       "        0.00044345, 0.00066322, 0.00090678, 0.00113994, 0.00128745,\n",
       "        0.00277679, 0.00052824, 0.00076265, 0.00089812, 0.00111437,\n",
       "        0.00138594, 0.00084237, 0.0018014 , 0.00270977, 0.00770421,\n",
       "        0.00234633, 0.00156678, 0.0014355 , 0.00150966, 0.00362429,\n",
       "        0.00583055, 0.00484919, 0.01147634, 0.03799528, 0.00350693,\n",
       "        0.00380111, 0.00410303, 0.00176309, 0.00513491, 0.00959118,\n",
       "        0.05178814, 0.02560281, 0.04834848, 0.00099943, 0.00280274,\n",
       "        0.0035082 , 0.01742433, 0.03335811, 0.0224448 , 0.0504155 ,\n",
       "        0.03673509, 0.02154167, 0.00356424, 0.00617722, 0.00969182,\n",
       "        0.00737191, 0.01398803, 0.03505605, 0.0537648 , 0.02484562,\n",
       "        0.01363804, 0.00152811, 0.00346094, 0.02061166, 0.01665337,\n",
       "        0.04184507, 0.03014367, 0.00944097, 0.01418791, 0.00327353,\n",
       "        0.00189823, 0.00152962, 0.00642732, 0.07035229, 0.017312  ,\n",
       "        0.01667719, 0.00520416, 0.00670936, 0.00289247, 0.00067438,\n",
       "        0.00138705, 0.00989287, 0.00665786, 0.00400088, 0.00467267,\n",
       "        0.00312741, 0.00311647, 0.0018373 , 0.00185247, 0.00204626,\n",
       "        0.00235437, 0.00797298, 0.00812697, 0.00263804, 0.00301807,\n",
       "        0.00239396, 0.00151666, 0.0012494 , 0.00102144, 0.00172059,\n",
       "        0.00319553, 0.00255455, 0.00209137, 0.00138604, 0.00094072,\n",
       "        0.00106122, 0.00068849, 0.00065301, 0.00082622, 0.00184995,\n",
       "        0.00191897, 0.00186139, 0.00081858, 0.00065062, 0.0004935 ]])"
      ]
     },
     "execution_count": 12,
     "metadata": {},
     "output_type": "execute_result"
    }
   ],
   "source": [
    "prob_predict=svc_fin.predict_proba(scaled_X_test[30].reshape(1, -1))\n",
    "prob_predict"
   ]
  },
  {
   "cell_type": "code",
   "execution_count": 13,
   "id": "short-daily",
   "metadata": {},
   "outputs": [
    {
     "data": {
      "text/plain": [
       "array(['mean6.5sd0.975'], dtype=object)"
      ]
     },
     "execution_count": 13,
     "metadata": {},
     "output_type": "execute_result"
    }
   ],
   "source": [
    "svc_fin.predict(scaled_X_test[30].reshape(1, -1))"
   ]
  },
  {
   "cell_type": "code",
   "execution_count": 23,
   "id": "rental-audience",
   "metadata": {},
   "outputs": [
    {
     "data": {
      "text/plain": [
       "array(['mean0.5sd0.0', 'mean0.5sd0.013', 'mean0.5sd0.025',\n",
       "       'mean0.5sd0.037', 'mean0.5sd0.05', 'mean0.5sd0.062',\n",
       "       'mean0.5sd0.075', 'mean0.5sd0.087', 'mean0.5sd0.1', 'mean1.0sd0.0',\n",
       "       'mean1.0sd0.025', 'mean1.0sd0.05', 'mean1.0sd0.075',\n",
       "       'mean1.0sd0.1', 'mean1.0sd0.125', 'mean1.0sd0.15',\n",
       "       'mean1.0sd0.175', 'mean1.0sd0.2', 'mean1.5sd0.0', 'mean1.5sd0.038',\n",
       "       'mean1.5sd0.075', 'mean1.5sd0.112', 'mean1.5sd0.15',\n",
       "       'mean1.5sd0.188', 'mean1.5sd0.225', 'mean1.5sd0.262',\n",
       "       'mean1.5sd0.3', 'mean10.0sd0.0', 'mean10.0sd0.25', 'mean10.0sd0.5',\n",
       "       'mean10.0sd0.75', 'mean10.0sd1.0', 'mean10.0sd1.25',\n",
       "       'mean10.0sd1.5', 'mean10.0sd1.75', 'mean10.0sd2.0', 'mean2.0sd0.0',\n",
       "       'mean2.0sd0.05', 'mean2.0sd0.1', 'mean2.0sd0.15', 'mean2.0sd0.2',\n",
       "       'mean2.0sd0.25', 'mean2.0sd0.3', 'mean2.0sd0.35', 'mean2.0sd0.4',\n",
       "       'mean2.5sd0.0', 'mean2.5sd0.062', 'mean2.5sd0.125',\n",
       "       'mean2.5sd0.188', 'mean2.5sd0.25', 'mean2.5sd0.312',\n",
       "       'mean2.5sd0.375', 'mean2.5sd0.438', 'mean2.5sd0.5', 'mean3.0sd0.0',\n",
       "       'mean3.0sd0.075', 'mean3.0sd0.15', 'mean3.0sd0.225',\n",
       "       'mean3.0sd0.3', 'mean3.0sd0.375', 'mean3.0sd0.45',\n",
       "       'mean3.0sd0.525', 'mean3.0sd0.6', 'mean3.5sd0.0', 'mean3.5sd0.088',\n",
       "       'mean3.5sd0.175', 'mean3.5sd0.263', 'mean3.5sd0.35',\n",
       "       'mean3.5sd0.438', 'mean3.5sd0.525', 'mean3.5sd0.612',\n",
       "       'mean3.5sd0.7', 'mean4.0sd0.0', 'mean4.0sd0.1', 'mean4.0sd0.2',\n",
       "       'mean4.0sd0.3', 'mean4.0sd0.4', 'mean4.0sd0.5', 'mean4.0sd0.6',\n",
       "       'mean4.0sd0.7', 'mean4.0sd0.8', 'mean4.5sd0.0', 'mean4.5sd0.113',\n",
       "       'mean4.5sd0.225', 'mean4.5sd0.337', 'mean4.5sd0.45',\n",
       "       'mean4.5sd0.562', 'mean4.5sd0.675', 'mean4.5sd0.787',\n",
       "       'mean4.5sd0.9', 'mean5.0sd0.0', 'mean5.0sd0.125', 'mean5.0sd0.25',\n",
       "       'mean5.0sd0.375', 'mean5.0sd0.5', 'mean5.0sd0.625',\n",
       "       'mean5.0sd0.75', 'mean5.0sd0.875', 'mean5.0sd1.0', 'mean5.5sd0.0',\n",
       "       'mean5.5sd0.138', 'mean5.5sd0.275', 'mean5.5sd0.412',\n",
       "       'mean5.5sd0.55', 'mean5.5sd0.688', 'mean5.5sd0.825',\n",
       "       'mean5.5sd0.962', 'mean5.5sd1.1', 'mean6.0sd0.0', 'mean6.0sd0.15',\n",
       "       'mean6.0sd0.3', 'mean6.0sd0.45', 'mean6.0sd0.6', 'mean6.0sd0.75',\n",
       "       'mean6.0sd0.9', 'mean6.0sd1.05', 'mean6.0sd1.2', 'mean6.5sd0.0',\n",
       "       'mean6.5sd0.163', 'mean6.5sd0.325', 'mean6.5sd0.487',\n",
       "       'mean6.5sd0.65', 'mean6.5sd0.812', 'mean6.5sd0.975',\n",
       "       'mean6.5sd1.137', 'mean6.5sd1.3', 'mean7.0sd0.0', 'mean7.0sd0.175',\n",
       "       'mean7.0sd0.35', 'mean7.0sd0.525', 'mean7.0sd0.7',\n",
       "       'mean7.0sd0.875', 'mean7.0sd1.05', 'mean7.0sd1.225',\n",
       "       'mean7.0sd1.4', 'mean7.5sd0.0', 'mean7.5sd0.188', 'mean7.5sd0.375',\n",
       "       'mean7.5sd0.562', 'mean7.5sd0.75', 'mean7.5sd0.938',\n",
       "       'mean7.5sd1.125', 'mean7.5sd1.312', 'mean7.5sd1.5', 'mean8.0sd0.0',\n",
       "       'mean8.0sd0.2', 'mean8.0sd0.4', 'mean8.0sd0.6', 'mean8.0sd0.8',\n",
       "       'mean8.0sd1.0', 'mean8.0sd1.2', 'mean8.0sd1.4', 'mean8.0sd1.6',\n",
       "       'mean8.5sd0.0', 'mean8.5sd0.213', 'mean8.5sd0.425',\n",
       "       'mean8.5sd0.637', 'mean8.5sd0.85', 'mean8.5sd1.062',\n",
       "       'mean8.5sd1.275', 'mean8.5sd1.487', 'mean8.5sd1.7', 'mean9.0sd0.0',\n",
       "       'mean9.0sd0.225', 'mean9.0sd0.45', 'mean9.0sd0.675',\n",
       "       'mean9.0sd0.9', 'mean9.0sd1.125', 'mean9.0sd1.35',\n",
       "       'mean9.0sd1.575', 'mean9.0sd1.8', 'mean9.5sd0.0', 'mean9.5sd0.238',\n",
       "       'mean9.5sd0.475', 'mean9.5sd0.713', 'mean9.5sd0.95',\n",
       "       'mean9.5sd1.188', 'mean9.5sd1.425', 'mean9.5sd1.662',\n",
       "       'mean9.5sd1.9'], dtype=object)"
      ]
     },
     "execution_count": 23,
     "metadata": {},
     "output_type": "execute_result"
    }
   ],
   "source": [
    "classes = svc_fin.classes_\n",
    "classes"
   ]
  },
  {
   "cell_type": "code",
   "execution_count": 14,
   "id": "orange-girlfriend",
   "metadata": {},
   "outputs": [
    {
     "name": "stdout",
     "output_type": "stream",
     "text": [
      "mean7.5sd0.562\n"
     ]
    }
   ],
   "source": [
    "pred = svc_fin.predict_proba(scaled_X_test[30].reshape(1, -1))\n",
    "label = np.argmax(pred, axis=1)[0]\n",
    "classes = svc_fin.classes_\n",
    "\n",
    "print(classes[label])"
   ]
  },
  {
   "cell_type": "code",
   "execution_count": 15,
   "id": "clean-cleanup",
   "metadata": {},
   "outputs": [
    {
     "data": {
      "text/plain": [
       "138"
      ]
     },
     "execution_count": 15,
     "metadata": {},
     "output_type": "execute_result"
    }
   ],
   "source": [
    "np.argmax(pred, axis=1)[0]"
   ]
  },
  {
   "cell_type": "code",
   "execution_count": 16,
   "id": "secondary-bubble",
   "metadata": {},
   "outputs": [
    {
     "data": {
      "text/plain": [
       "0.16111111111111112"
      ]
     },
     "execution_count": 16,
     "metadata": {},
     "output_type": "execute_result"
    }
   ],
   "source": [
    "svc_fin.score(scaled_X_test, y_test)"
   ]
  },
  {
   "cell_type": "code",
   "execution_count": 17,
   "id": "announced-tattoo",
   "metadata": {},
   "outputs": [],
   "source": [
    "prob_predict=svc_fin.predict_proba(scaled_X_test)"
   ]
  },
  {
   "cell_type": "code",
   "execution_count": 21,
   "id": "neutral-strength",
   "metadata": {},
   "outputs": [
    {
     "data": {
      "text/plain": [
       "0.74"
      ]
     },
     "execution_count": 21,
     "metadata": {},
     "output_type": "execute_result"
    }
   ],
   "source": [
    "top_k_accuracy_score(y_test, prob_predict, k=9)"
   ]
  },
  {
   "cell_type": "code",
   "execution_count": null,
   "id": "fallen-flood",
   "metadata": {},
   "outputs": [],
   "source": []
  }
 ],
 "metadata": {
  "kernelspec": {
   "display_name": "Python 3",
   "language": "python",
   "name": "python3"
  },
  "language_info": {
   "codemirror_mode": {
    "name": "ipython",
    "version": 3
   },
   "file_extension": ".py",
   "mimetype": "text/x-python",
   "name": "python",
   "nbconvert_exporter": "python",
   "pygments_lexer": "ipython3",
   "version": "3.9.1"
  }
 },
 "nbformat": 4,
 "nbformat_minor": 5
}
